{
 "cells": [
  {
   "cell_type": "markdown",
   "metadata": {},
   "source": [
    "# Capstone Webscrapping using BeautifulSoup\n",
    "\n",
    "Web scraping is an automatic method to obtain large amounts of data from websites. In this Capstone, I will do web scraping exchange rate Indonesian Rupiah to American USD from https://www.exchange-rates.org/history/IDR/USD/T\n",
    "\n",
    "\n",
    "\n",
    "<img src=\"assets/usd.jpg\" width=\"600\" height=\"300\">\n",
    "\n",
    "\n",
    "## Requesting the Data and Creating a BeautifulSoup\n",
    "\n",
    "Let's begin with requesting the web from the site with `get` method."
   ]
  },
  {
   "cell_type": "code",
   "execution_count": 2,
   "metadata": {
    "ExecuteTime": {
     "end_time": "2020-01-13T05:12:23.275508Z",
     "start_time": "2020-01-13T05:12:20.009898Z"
    }
   },
   "outputs": [],
   "source": [
    "import requests\n",
    "\n",
    "url_get = requests.get('https://www.exchange-rates.org/history/IDR/USD/T')"
   ]
  },
  {
   "cell_type": "markdown",
   "metadata": {},
   "source": [
    "To visualize what exactly you get from the `request.get`, we can use .content see what we exactly get, in here i slice it so it won't make our screen full of the html we get from the page. You can delete the slicing if you want to see what we fully get."
   ]
  },
  {
   "cell_type": "code",
   "execution_count": 3,
   "metadata": {
    "ExecuteTime": {
     "end_time": "2020-01-13T05:12:23.290648Z",
     "start_time": "2020-01-13T05:12:23.277650Z"
    }
   },
   "outputs": [
    {
     "data": {
      "text/plain": [
       "b'!DOCTYPE html>\\r\\n<!--[if lt IE 9]>\\r\\n<html class=\"no-js ie8 oldie\" lang=\"en\" xml:lang=\\'en\\'>\\r\\n<![endif]-->\\r\\n<!--[if gt IE 8]><!--><html class=\"no-js\" lang=\"en\" xml:lang=\\'en\\'><!--<![endif]-->\\r\\n<head>\\r\\n<title>Indonesian Rupiah Exchange Rate - US Dollar - Historical Exchange Rates</title>\\r\\n<meta http-equiv=\"X-UA-Compatible\" content=\"IE=edge\">\\r\\n<meta name=\"viewport\" content=\"width=device-width, initial-scale=1, maximum-scale=5\">\\r\\n<meta charset=\"utf-8\" /><meta http-equiv=\"Content-Type\" content=\"text/ht'"
      ]
     },
     "execution_count": 3,
     "metadata": {},
     "output_type": "execute_result"
    }
   ],
   "source": [
    "url_get.content[1:500]"
   ]
  },
  {
   "cell_type": "markdown",
   "metadata": {},
   "source": [
    "As we can see we get a very unstructured and complex html, which actually contains the codes needed to show the webpages on your web browser. But we as human still confused what and where we can use that piece of code, so here where we use the beautifulsoup. Beautiful soup class will result a beautifulsoup object. Beautiful Soup transforms a complex HTML document into a complex tree of Python objects. \n",
    "\n",
    "Let's make Beautiful soup object and feel free to explore the object here."
   ]
  },
  {
   "cell_type": "code",
   "execution_count": 4,
   "metadata": {
    "ExecuteTime": {
     "end_time": "2020-01-13T05:12:23.808122Z",
     "start_time": "2020-01-13T05:12:23.292610Z"
    }
   },
   "outputs": [],
   "source": [
    "from bs4 import BeautifulSoup \n",
    "\n",
    "soup = BeautifulSoup(url_get.content,\"html.parser\")"
   ]
  },
  {
   "cell_type": "markdown",
   "metadata": {},
   "source": [
    "## Finding the right key to scrap the data & Extracting the right information"
   ]
  },
  {
   "cell_type": "markdown",
   "metadata": {},
   "source": [
    "Find the key and put the key into the `.find()` Put all the exploring the right key at this cell. In this scrapping, we get key table containing class table. Then we beautify the results we want to see using the `.prettify()`"
   ]
  },
  {
   "cell_type": "code",
   "execution_count": 5,
   "metadata": {
    "ExecuteTime": {
     "end_time": "2020-01-13T05:12:23.878904Z",
     "start_time": "2020-01-13T05:12:23.854974Z"
    }
   },
   "outputs": [
    {
     "name": "stdout",
     "output_type": "stream",
     "text": [
      "table class=\"table table-striped table-hover table-hover-solid-row table-simple history-data\">\n",
      " <tbody>\n",
      "  <tr>\n",
      "   <td>\n",
      "    4/8/2022\n",
      "   </td>\n",
      "   <td>\n",
      "    Friday\n",
      "   </td>\n",
      "   <td>\n",
      "    <a href=\"/Rate/USD/IDR/4-8-2022\">\n",
      "     14,361.23753\n",
      "    </a>\n",
      "    IDR\n",
      "   </td>\n",
      "   <td class=\"text-narrow-screen-hidden\">\n",
      "    <a href=\"/Rate/USD/IDR/4-8-2022\">\n",
      "     USD IDR rate for 4/8/2022\n",
      "    </a>\n",
      "   </td>\n",
      "  </tr>\n",
      "  <tr>\n",
      "   <td>\n",
      "    4/7/2022\n",
      "   </td>\n",
      "   <td>\n",
      "    Thursday\n",
      "   </td>\n",
      "   <td>\n",
      "    <a href=\"/Rate/USD/IDR/4\n"
     ]
    }
   ],
   "source": [
    "table = soup.find('table', attrs={'class':'table'})\n",
    "print(table.prettify()[1:500])"
   ]
  },
  {
   "cell_type": "markdown",
   "metadata": {},
   "source": [
    "Finding row length."
   ]
  },
  {
   "cell_type": "code",
   "execution_count": 6,
   "metadata": {},
   "outputs": [],
   "source": [
    "row = table.find_all('tr')\n",
    "row_length = len(row)"
   ]
  },
  {
   "cell_type": "markdown",
   "metadata": {},
   "source": [
    "Do the scrapping process to scrap the information. First we initialize a tuple and name it with the temp variable. Then we will make a loop from one to the length of the table row, which we will find all the cells of column one and two are date and kurs. then we will add it to the tuple we have created."
   ]
  },
  {
   "cell_type": "code",
   "execution_count": 7,
   "metadata": {
    "ExecuteTime": {
     "end_time": "2020-01-13T05:12:24.008256Z",
     "start_time": "2020-01-13T05:12:23.980358Z"
    }
   },
   "outputs": [
    {
     "data": {
      "text/plain": [
       "[('4/7/2022', '14,376.17757 IDR'),\n",
       " ('4/6/2022', '14,353.48743 IDR'),\n",
       " ('4/5/2022', '14,429.30273 IDR'),\n",
       " ('4/4/2022', '14,461.93245 IDR'),\n",
       " ('4/1/2022', '14,387.12962 IDR'),\n",
       " ('3/31/2022', '14,453.05265 IDR'),\n",
       " ('3/30/2022', '14,336.99145 IDR'),\n",
       " ('3/29/2022', '14,361.15282 IDR'),\n",
       " ('3/28/2022', '14,357.41556 IDR'),\n",
       " ('3/25/2022', '14,336.41203 IDR'),\n",
       " ('3/24/2022', '14,344.22317 IDR'),\n",
       " ('3/23/2022', '14,342.49195 IDR'),\n",
       " ('3/22/2022', '14,316.28136 IDR'),\n",
       " ('3/21/2022', '14,334.33161 IDR'),\n",
       " ('3/18/2022', '14,317.32984 IDR'),\n",
       " ('3/17/2022', '14,201.08740 IDR'),\n",
       " ('3/16/2022', '14,287.09042 IDR'),\n",
       " ('3/15/2022', '14,327.65493 IDR'),\n",
       " ('3/14/2022', '14,369.24960 IDR'),\n",
       " ('3/11/2022', '14,298.14917 IDR'),\n",
       " ('3/10/2022', '14,272.77815 IDR'),\n",
       " ('3/9/2022', '14,220.21619 IDR'),\n",
       " ('3/8/2022', '14,404.96831 IDR'),\n",
       " ('3/7/2022', '14,415.73042 IDR'),\n",
       " ('3/4/2022', '14,441.31509 IDR'),\n",
       " ('3/3/2022', '14,372.46415 IDR'),\n",
       " ('3/2/2022', '14,343.65417 IDR'),\n",
       " ('3/1/2022', '14,315.13440 IDR'),\n",
       " ('2/28/2022', '14,340.42986 IDR'),\n",
       " ('2/25/2022', '14,338.30051 IDR'),\n",
       " ('2/24/2022', '14,440.24135 IDR'),\n",
       " ('2/23/2022', '14,365.52063 IDR'),\n",
       " ('2/22/2022', '14,365.29938 IDR'),\n",
       " ('2/21/2022', '14,377.48147 IDR'),\n",
       " ('2/18/2022', '14,375.59648 IDR'),\n",
       " ('2/17/2022', '14,317.08272 IDR'),\n",
       " ('2/16/2022', '14,271.64922 IDR'),\n",
       " ('2/15/2022', '14,287.13715 IDR'),\n",
       " ('2/14/2022', '14,427.80569 IDR'),\n",
       " ('2/11/2022', '14,475.38832 IDR'),\n",
       " ('2/10/2022', '14,377.66081 IDR'),\n",
       " ('2/9/2022', '14,370.70177 IDR'),\n",
       " ('2/8/2022', '14,405.42256 IDR'),\n",
       " ('2/7/2022', '14,397.48241 IDR'),\n",
       " ('2/4/2022', '14,387.09424 IDR'),\n",
       " ('2/3/2022', '14,188.50113 IDR'),\n",
       " ('2/2/2022', '14,356.61082 IDR'),\n",
       " ('2/1/2022', '14,384.95936 IDR'),\n",
       " ('1/31/2022', '14,384.79962 IDR'),\n",
       " ('1/28/2022', '14,378.93255 IDR'),\n",
       " ('1/27/2022', '14,383.83512 IDR'),\n",
       " ('1/26/2022', '14,422.65349 IDR'),\n",
       " ('1/25/2022', '14,341.25499 IDR'),\n",
       " ('1/24/2022', '14,314.57799 IDR'),\n",
       " ('1/21/2022', '14,317.75421 IDR'),\n",
       " ('1/20/2022', '14,362.94119 IDR'),\n",
       " ('1/19/2022', '14,369.03219 IDR'),\n",
       " ('1/18/2022', '14,343.41027 IDR'),\n",
       " ('1/17/2022', '14,326.03479 IDR'),\n",
       " ('1/14/2022', '14,297.47795 IDR'),\n",
       " ('1/13/2022', '14,301.67500 IDR'),\n",
       " ('1/12/2022', '14,295.32900 IDR'),\n",
       " ('1/11/2022', '14,302.48974 IDR'),\n",
       " ('1/10/2022', '14,295.29905 IDR'),\n",
       " ('1/7/2022', '14,303.69386 IDR'),\n",
       " ('1/6/2022', '14,387.13904 IDR'),\n",
       " ('1/5/2022', '14,376.59427 IDR'),\n",
       " ('1/4/2022', '14,306.22137 IDR'),\n",
       " ('1/3/2022', '14,271.10676 IDR'),\n",
       " ('12/31/2021', '14,184.77099 IDR'),\n",
       " ('12/30/2021', '14,249.76380 IDR'),\n",
       " ('12/29/2021', '14,198.28676 IDR'),\n",
       " ('12/28/2021', '14,221.34174 IDR'),\n",
       " ('12/27/2021', '14,227.31928 IDR'),\n",
       " ('12/24/2021', '14,264.51755 IDR'),\n",
       " ('12/23/2021', '14,256.89960 IDR'),\n",
       " ('12/22/2021', '14,298.20378 IDR'),\n",
       " ('12/21/2021', '14,304.01234 IDR'),\n",
       " ('12/20/2021', '14,382.49273 IDR'),\n",
       " ('12/17/2021', '14,389.66562 IDR'),\n",
       " ('12/16/2021', '14,330.91366 IDR'),\n",
       " ('12/15/2021', '14,251.62584 IDR'),\n",
       " ('12/14/2021', '14,341.93227 IDR'),\n",
       " ('12/13/2021', '14,357.75629 IDR'),\n",
       " ('12/10/2021', '14,370.27875 IDR'),\n",
       " ('12/9/2021', '14,344.97904 IDR'),\n",
       " ('12/8/2021', '14,370.91961 IDR'),\n",
       " ('12/7/2021', '14,347.32452 IDR'),\n",
       " ('12/6/2021', '14,432.56943 IDR'),\n",
       " ('12/3/2021', '14,389.50020 IDR'),\n",
       " ('12/2/2021', '14,392.39767 IDR'),\n",
       " ('12/1/2021', '14,347.93748 IDR'),\n",
       " ('11/30/2021', '14,353.30743 IDR'),\n",
       " ('11/29/2021', '14,295.39385 IDR'),\n",
       " ('11/26/2021', '14,300.35336 IDR'),\n",
       " ('11/25/2021', '14,283.22294 IDR'),\n",
       " ('11/24/2021', '14,320.08606 IDR'),\n",
       " ('11/23/2021', '14,259.04525 IDR'),\n",
       " ('11/22/2021', '14,243.50566 IDR'),\n",
       " ('11/19/2021', '14,243.55587 IDR'),\n",
       " ('11/18/2021', '14,225.41528 IDR'),\n",
       " ('11/17/2021', '14,246.59228 IDR'),\n",
       " ('11/16/2021', '14,222.37140 IDR'),\n",
       " ('11/15/2021', '14,235.75523 IDR'),\n",
       " ('11/12/2021', '14,233.63534 IDR'),\n",
       " ('11/11/2021', '14,288.84762 IDR'),\n",
       " ('11/10/2021', '14,271.96265 IDR'),\n",
       " ('11/9/2021', '14,243.01887 IDR'),\n",
       " ('11/8/2021', '14,257.97264 IDR'),\n",
       " ('11/5/2021', '14,338.39761 IDR'),\n",
       " ('11/4/2021', '14,334.06331 IDR'),\n",
       " ('11/3/2021', '14,256.74541 IDR'),\n",
       " ('11/2/2021', '14,256.29202 IDR'),\n",
       " ('11/1/2021', '14,233.76847 IDR'),\n",
       " ('10/29/2021', '14,288.95452 IDR'),\n",
       " ('10/28/2021', '14,175.29082 IDR'),\n",
       " ('10/27/2021', '14,141.55342 IDR'),\n",
       " ('10/26/2021', '14,166.19588 IDR'),\n",
       " ('10/25/2021', '14,152.60477 IDR'),\n",
       " ('10/22/2021', '14,110.21079 IDR'),\n",
       " ('10/21/2021', '14,121.60389 IDR'),\n",
       " ('10/20/2021', '14,079.51380 IDR'),\n",
       " ('10/19/2021', '14,075.46229 IDR'),\n",
       " ('10/18/2021', '14,056.43762 IDR'),\n",
       " ('10/15/2021', '14,070.19147 IDR'),\n",
       " ('10/14/2021', '14,105.27223 IDR'),\n",
       " ('10/13/2021', '14,204.85164 IDR'),\n",
       " ('10/12/2021', '14,214.84450 IDR'),\n",
       " ('10/11/2021', '14,220.90165 IDR')]"
      ]
     },
     "execution_count": 7,
     "metadata": {},
     "output_type": "execute_result"
    }
   ],
   "source": [
    "temp = [] #initiating a tuple\n",
    "\n",
    "for i in range(1, row_length):\n",
    "\n",
    "    # using key tr to take information\n",
    "    row = table.find_all('tr')[i]\n",
    "    \n",
    "    # get date\n",
    "    date = row.find_all('td')[0].text\n",
    "    date = date.strip()\n",
    "    \n",
    "    # get kurs\n",
    "    kurs = row.find_all('td')[2].text\n",
    "    kurs = kurs.strip()\n",
    "    \n",
    "    temp.append((date,kurs))\n",
    "    \n",
    "    \n",
    "temp "
   ]
  },
  {
   "cell_type": "markdown",
   "metadata": {},
   "source": [
    "it can be seen, that the results obtained start from the most recent date. We will change the order from oldest to newest date using `::-1`"
   ]
  },
  {
   "cell_type": "code",
   "execution_count": 8,
   "metadata": {},
   "outputs": [
    {
     "data": {
      "text/plain": [
       "[('10/11/2021', '14,220.90165 IDR'),\n",
       " ('10/12/2021', '14,214.84450 IDR'),\n",
       " ('10/13/2021', '14,204.85164 IDR'),\n",
       " ('10/14/2021', '14,105.27223 IDR'),\n",
       " ('10/15/2021', '14,070.19147 IDR'),\n",
       " ('10/18/2021', '14,056.43762 IDR'),\n",
       " ('10/19/2021', '14,075.46229 IDR'),\n",
       " ('10/20/2021', '14,079.51380 IDR'),\n",
       " ('10/21/2021', '14,121.60389 IDR'),\n",
       " ('10/22/2021', '14,110.21079 IDR'),\n",
       " ('10/25/2021', '14,152.60477 IDR'),\n",
       " ('10/26/2021', '14,166.19588 IDR'),\n",
       " ('10/27/2021', '14,141.55342 IDR'),\n",
       " ('10/28/2021', '14,175.29082 IDR'),\n",
       " ('10/29/2021', '14,288.95452 IDR'),\n",
       " ('11/1/2021', '14,233.76847 IDR'),\n",
       " ('11/2/2021', '14,256.29202 IDR'),\n",
       " ('11/3/2021', '14,256.74541 IDR'),\n",
       " ('11/4/2021', '14,334.06331 IDR'),\n",
       " ('11/5/2021', '14,338.39761 IDR'),\n",
       " ('11/8/2021', '14,257.97264 IDR'),\n",
       " ('11/9/2021', '14,243.01887 IDR'),\n",
       " ('11/10/2021', '14,271.96265 IDR'),\n",
       " ('11/11/2021', '14,288.84762 IDR'),\n",
       " ('11/12/2021', '14,233.63534 IDR'),\n",
       " ('11/15/2021', '14,235.75523 IDR'),\n",
       " ('11/16/2021', '14,222.37140 IDR'),\n",
       " ('11/17/2021', '14,246.59228 IDR'),\n",
       " ('11/18/2021', '14,225.41528 IDR'),\n",
       " ('11/19/2021', '14,243.55587 IDR'),\n",
       " ('11/22/2021', '14,243.50566 IDR'),\n",
       " ('11/23/2021', '14,259.04525 IDR'),\n",
       " ('11/24/2021', '14,320.08606 IDR'),\n",
       " ('11/25/2021', '14,283.22294 IDR'),\n",
       " ('11/26/2021', '14,300.35336 IDR'),\n",
       " ('11/29/2021', '14,295.39385 IDR'),\n",
       " ('11/30/2021', '14,353.30743 IDR'),\n",
       " ('12/1/2021', '14,347.93748 IDR'),\n",
       " ('12/2/2021', '14,392.39767 IDR'),\n",
       " ('12/3/2021', '14,389.50020 IDR'),\n",
       " ('12/6/2021', '14,432.56943 IDR'),\n",
       " ('12/7/2021', '14,347.32452 IDR'),\n",
       " ('12/8/2021', '14,370.91961 IDR'),\n",
       " ('12/9/2021', '14,344.97904 IDR'),\n",
       " ('12/10/2021', '14,370.27875 IDR'),\n",
       " ('12/13/2021', '14,357.75629 IDR'),\n",
       " ('12/14/2021', '14,341.93227 IDR'),\n",
       " ('12/15/2021', '14,251.62584 IDR'),\n",
       " ('12/16/2021', '14,330.91366 IDR'),\n",
       " ('12/17/2021', '14,389.66562 IDR'),\n",
       " ('12/20/2021', '14,382.49273 IDR'),\n",
       " ('12/21/2021', '14,304.01234 IDR'),\n",
       " ('12/22/2021', '14,298.20378 IDR'),\n",
       " ('12/23/2021', '14,256.89960 IDR'),\n",
       " ('12/24/2021', '14,264.51755 IDR'),\n",
       " ('12/27/2021', '14,227.31928 IDR'),\n",
       " ('12/28/2021', '14,221.34174 IDR'),\n",
       " ('12/29/2021', '14,198.28676 IDR'),\n",
       " ('12/30/2021', '14,249.76380 IDR'),\n",
       " ('12/31/2021', '14,184.77099 IDR'),\n",
       " ('1/3/2022', '14,271.10676 IDR'),\n",
       " ('1/4/2022', '14,306.22137 IDR'),\n",
       " ('1/5/2022', '14,376.59427 IDR'),\n",
       " ('1/6/2022', '14,387.13904 IDR'),\n",
       " ('1/7/2022', '14,303.69386 IDR'),\n",
       " ('1/10/2022', '14,295.29905 IDR'),\n",
       " ('1/11/2022', '14,302.48974 IDR'),\n",
       " ('1/12/2022', '14,295.32900 IDR'),\n",
       " ('1/13/2022', '14,301.67500 IDR'),\n",
       " ('1/14/2022', '14,297.47795 IDR'),\n",
       " ('1/17/2022', '14,326.03479 IDR'),\n",
       " ('1/18/2022', '14,343.41027 IDR'),\n",
       " ('1/19/2022', '14,369.03219 IDR'),\n",
       " ('1/20/2022', '14,362.94119 IDR'),\n",
       " ('1/21/2022', '14,317.75421 IDR'),\n",
       " ('1/24/2022', '14,314.57799 IDR'),\n",
       " ('1/25/2022', '14,341.25499 IDR'),\n",
       " ('1/26/2022', '14,422.65349 IDR'),\n",
       " ('1/27/2022', '14,383.83512 IDR'),\n",
       " ('1/28/2022', '14,378.93255 IDR'),\n",
       " ('1/31/2022', '14,384.79962 IDR'),\n",
       " ('2/1/2022', '14,384.95936 IDR'),\n",
       " ('2/2/2022', '14,356.61082 IDR'),\n",
       " ('2/3/2022', '14,188.50113 IDR'),\n",
       " ('2/4/2022', '14,387.09424 IDR'),\n",
       " ('2/7/2022', '14,397.48241 IDR'),\n",
       " ('2/8/2022', '14,405.42256 IDR'),\n",
       " ('2/9/2022', '14,370.70177 IDR'),\n",
       " ('2/10/2022', '14,377.66081 IDR'),\n",
       " ('2/11/2022', '14,475.38832 IDR'),\n",
       " ('2/14/2022', '14,427.80569 IDR'),\n",
       " ('2/15/2022', '14,287.13715 IDR'),\n",
       " ('2/16/2022', '14,271.64922 IDR'),\n",
       " ('2/17/2022', '14,317.08272 IDR'),\n",
       " ('2/18/2022', '14,375.59648 IDR'),\n",
       " ('2/21/2022', '14,377.48147 IDR'),\n",
       " ('2/22/2022', '14,365.29938 IDR'),\n",
       " ('2/23/2022', '14,365.52063 IDR'),\n",
       " ('2/24/2022', '14,440.24135 IDR'),\n",
       " ('2/25/2022', '14,338.30051 IDR'),\n",
       " ('2/28/2022', '14,340.42986 IDR'),\n",
       " ('3/1/2022', '14,315.13440 IDR'),\n",
       " ('3/2/2022', '14,343.65417 IDR'),\n",
       " ('3/3/2022', '14,372.46415 IDR'),\n",
       " ('3/4/2022', '14,441.31509 IDR'),\n",
       " ('3/7/2022', '14,415.73042 IDR'),\n",
       " ('3/8/2022', '14,404.96831 IDR'),\n",
       " ('3/9/2022', '14,220.21619 IDR'),\n",
       " ('3/10/2022', '14,272.77815 IDR'),\n",
       " ('3/11/2022', '14,298.14917 IDR'),\n",
       " ('3/14/2022', '14,369.24960 IDR'),\n",
       " ('3/15/2022', '14,327.65493 IDR'),\n",
       " ('3/16/2022', '14,287.09042 IDR'),\n",
       " ('3/17/2022', '14,201.08740 IDR'),\n",
       " ('3/18/2022', '14,317.32984 IDR'),\n",
       " ('3/21/2022', '14,334.33161 IDR'),\n",
       " ('3/22/2022', '14,316.28136 IDR'),\n",
       " ('3/23/2022', '14,342.49195 IDR'),\n",
       " ('3/24/2022', '14,344.22317 IDR'),\n",
       " ('3/25/2022', '14,336.41203 IDR'),\n",
       " ('3/28/2022', '14,357.41556 IDR'),\n",
       " ('3/29/2022', '14,361.15282 IDR'),\n",
       " ('3/30/2022', '14,336.99145 IDR'),\n",
       " ('3/31/2022', '14,453.05265 IDR'),\n",
       " ('4/1/2022', '14,387.12962 IDR'),\n",
       " ('4/4/2022', '14,461.93245 IDR'),\n",
       " ('4/5/2022', '14,429.30273 IDR'),\n",
       " ('4/6/2022', '14,353.48743 IDR'),\n",
       " ('4/7/2022', '14,376.17757 IDR')]"
      ]
     },
     "execution_count": 8,
     "metadata": {},
     "output_type": "execute_result"
    }
   ],
   "source": [
    "temp = temp[::-1]\n",
    "temp"
   ]
  },
  {
   "cell_type": "markdown",
   "metadata": {},
   "source": [
    "## Creating data frame & Data wrangling"
   ]
  },
  {
   "cell_type": "markdown",
   "metadata": {},
   "source": [
    "Put the array into dataframe"
   ]
  },
  {
   "cell_type": "code",
   "execution_count": 9,
   "metadata": {
    "ExecuteTime": {
     "end_time": "2020-01-13T05:12:41.517372Z",
     "start_time": "2020-01-13T05:12:29.130015Z"
    }
   },
   "outputs": [
    {
     "data": {
      "text/html": [
       "<div>\n",
       "<style scoped>\n",
       "    .dataframe tbody tr th:only-of-type {\n",
       "        vertical-align: middle;\n",
       "    }\n",
       "\n",
       "    .dataframe tbody tr th {\n",
       "        vertical-align: top;\n",
       "    }\n",
       "\n",
       "    .dataframe thead th {\n",
       "        text-align: right;\n",
       "    }\n",
       "</style>\n",
       "<table border=\"1\" class=\"dataframe\">\n",
       "  <thead>\n",
       "    <tr style=\"text-align: right;\">\n",
       "      <th></th>\n",
       "      <th>date</th>\n",
       "      <th>kurs</th>\n",
       "    </tr>\n",
       "  </thead>\n",
       "  <tbody>\n",
       "    <tr>\n",
       "      <th>0</th>\n",
       "      <td>10/11/2021</td>\n",
       "      <td>14,220.90165 IDR</td>\n",
       "    </tr>\n",
       "    <tr>\n",
       "      <th>1</th>\n",
       "      <td>10/12/2021</td>\n",
       "      <td>14,214.84450 IDR</td>\n",
       "    </tr>\n",
       "    <tr>\n",
       "      <th>2</th>\n",
       "      <td>10/13/2021</td>\n",
       "      <td>14,204.85164 IDR</td>\n",
       "    </tr>\n",
       "    <tr>\n",
       "      <th>3</th>\n",
       "      <td>10/14/2021</td>\n",
       "      <td>14,105.27223 IDR</td>\n",
       "    </tr>\n",
       "    <tr>\n",
       "      <th>4</th>\n",
       "      <td>10/15/2021</td>\n",
       "      <td>14,070.19147 IDR</td>\n",
       "    </tr>\n",
       "  </tbody>\n",
       "</table>\n",
       "</div>"
      ],
      "text/plain": [
       "         date              kurs\n",
       "0  10/11/2021  14,220.90165 IDR\n",
       "1  10/12/2021  14,214.84450 IDR\n",
       "2  10/13/2021  14,204.85164 IDR\n",
       "3  10/14/2021  14,105.27223 IDR\n",
       "4  10/15/2021  14,070.19147 IDR"
      ]
     },
     "execution_count": 9,
     "metadata": {},
     "output_type": "execute_result"
    }
   ],
   "source": [
    "import pandas as pd\n",
    "\n",
    "df = pd.DataFrame(temp,columns=['date','kurs'])\n",
    "df.head()"
   ]
  },
  {
   "cell_type": "markdown",
   "metadata": {},
   "source": [
    "After that, we will remove the IDR string and the comma to change the kurs data type to float"
   ]
  },
  {
   "cell_type": "code",
   "execution_count": 10,
   "metadata": {
    "ExecuteTime": {
     "end_time": "2020-01-13T05:12:59.165559Z",
     "start_time": "2020-01-13T05:12:58.910012Z"
    }
   },
   "outputs": [
    {
     "data": {
      "text/html": [
       "<div>\n",
       "<style scoped>\n",
       "    .dataframe tbody tr th:only-of-type {\n",
       "        vertical-align: middle;\n",
       "    }\n",
       "\n",
       "    .dataframe tbody tr th {\n",
       "        vertical-align: top;\n",
       "    }\n",
       "\n",
       "    .dataframe thead th {\n",
       "        text-align: right;\n",
       "    }\n",
       "</style>\n",
       "<table border=\"1\" class=\"dataframe\">\n",
       "  <thead>\n",
       "    <tr style=\"text-align: right;\">\n",
       "      <th></th>\n",
       "      <th>date</th>\n",
       "      <th>kurs</th>\n",
       "    </tr>\n",
       "  </thead>\n",
       "  <tbody>\n",
       "    <tr>\n",
       "      <th>0</th>\n",
       "      <td>10/11/2021</td>\n",
       "      <td>14220.90165</td>\n",
       "    </tr>\n",
       "    <tr>\n",
       "      <th>1</th>\n",
       "      <td>10/12/2021</td>\n",
       "      <td>14214.84450</td>\n",
       "    </tr>\n",
       "    <tr>\n",
       "      <th>2</th>\n",
       "      <td>10/13/2021</td>\n",
       "      <td>14204.85164</td>\n",
       "    </tr>\n",
       "    <tr>\n",
       "      <th>3</th>\n",
       "      <td>10/14/2021</td>\n",
       "      <td>14105.27223</td>\n",
       "    </tr>\n",
       "    <tr>\n",
       "      <th>4</th>\n",
       "      <td>10/15/2021</td>\n",
       "      <td>14070.19147</td>\n",
       "    </tr>\n",
       "  </tbody>\n",
       "</table>\n",
       "</div>"
      ],
      "text/plain": [
       "         date          kurs\n",
       "0  10/11/2021  14220.90165 \n",
       "1  10/12/2021  14214.84450 \n",
       "2  10/13/2021  14204.85164 \n",
       "3  10/14/2021  14105.27223 \n",
       "4  10/15/2021  14070.19147 "
      ]
     },
     "execution_count": 10,
     "metadata": {},
     "output_type": "execute_result"
    }
   ],
   "source": [
    "# to get rid of the string 'IDR'\n",
    "df['kurs'] = df['kurs'].str.replace('IDR','')\n",
    "\n",
    "# to get rid of the string ','\n",
    "df['kurs'] = df['kurs'].str.replace(',','')\n",
    "\n",
    "df.head()"
   ]
  },
  {
   "cell_type": "code",
   "execution_count": 11,
   "metadata": {
    "scrolled": true
   },
   "outputs": [
    {
     "data": {
      "text/plain": [
       "date    object\n",
       "kurs    object\n",
       "dtype: object"
      ]
     },
     "execution_count": 11,
     "metadata": {},
     "output_type": "execute_result"
    }
   ],
   "source": [
    "# check data types\n",
    "df.dtypes"
   ]
  },
  {
   "cell_type": "code",
   "execution_count": 12,
   "metadata": {},
   "outputs": [
    {
     "data": {
      "text/plain": [
       "date    datetime64[ns]\n",
       "kurs           float64\n",
       "dtype: object"
      ]
     },
     "execution_count": 12,
     "metadata": {},
     "output_type": "execute_result"
    }
   ],
   "source": [
    "# to change the data type in columns date to datetime64\n",
    "df['date'] = df['date'].astype('datetime64')\n",
    "\n",
    "# to change the data type in columns kurs to float\n",
    "df['kurs'] = df['kurs'].astype('float')\n",
    "\n",
    "df.dtypes"
   ]
  },
  {
   "cell_type": "markdown",
   "metadata": {},
   "source": [
    "we will create a new column containing month and year to get the mean so that it can be visualized by month category"
   ]
  },
  {
   "cell_type": "code",
   "execution_count": 13,
   "metadata": {},
   "outputs": [
    {
     "data": {
      "text/html": [
       "<div>\n",
       "<style scoped>\n",
       "    .dataframe tbody tr th:only-of-type {\n",
       "        vertical-align: middle;\n",
       "    }\n",
       "\n",
       "    .dataframe tbody tr th {\n",
       "        vertical-align: top;\n",
       "    }\n",
       "\n",
       "    .dataframe thead th {\n",
       "        text-align: right;\n",
       "    }\n",
       "</style>\n",
       "<table border=\"1\" class=\"dataframe\">\n",
       "  <thead>\n",
       "    <tr style=\"text-align: right;\">\n",
       "      <th></th>\n",
       "      <th>date</th>\n",
       "      <th>kurs</th>\n",
       "      <th>month</th>\n",
       "    </tr>\n",
       "  </thead>\n",
       "  <tbody>\n",
       "    <tr>\n",
       "      <th>0</th>\n",
       "      <td>2021-10-11</td>\n",
       "      <td>14220.90165</td>\n",
       "      <td>2021-10</td>\n",
       "    </tr>\n",
       "    <tr>\n",
       "      <th>1</th>\n",
       "      <td>2021-10-12</td>\n",
       "      <td>14214.84450</td>\n",
       "      <td>2021-10</td>\n",
       "    </tr>\n",
       "    <tr>\n",
       "      <th>2</th>\n",
       "      <td>2021-10-13</td>\n",
       "      <td>14204.85164</td>\n",
       "      <td>2021-10</td>\n",
       "    </tr>\n",
       "    <tr>\n",
       "      <th>3</th>\n",
       "      <td>2021-10-14</td>\n",
       "      <td>14105.27223</td>\n",
       "      <td>2021-10</td>\n",
       "    </tr>\n",
       "    <tr>\n",
       "      <th>4</th>\n",
       "      <td>2021-10-15</td>\n",
       "      <td>14070.19147</td>\n",
       "      <td>2021-10</td>\n",
       "    </tr>\n",
       "  </tbody>\n",
       "</table>\n",
       "</div>"
      ],
      "text/plain": [
       "        date         kurs    month\n",
       "0 2021-10-11  14220.90165  2021-10\n",
       "1 2021-10-12  14214.84450  2021-10\n",
       "2 2021-10-13  14204.85164  2021-10\n",
       "3 2021-10-14  14105.27223  2021-10\n",
       "4 2021-10-15  14070.19147  2021-10"
      ]
     },
     "execution_count": 13,
     "metadata": {},
     "output_type": "execute_result"
    }
   ],
   "source": [
    "# make new column to get contain month\n",
    "df['month'] = df['date'].dt.to_period('M')\n",
    "df.head()"
   ]
  },
  {
   "cell_type": "code",
   "execution_count": 14,
   "metadata": {},
   "outputs": [
    {
     "data": {
      "text/html": [
       "<div>\n",
       "<style scoped>\n",
       "    .dataframe tbody tr th:only-of-type {\n",
       "        vertical-align: middle;\n",
       "    }\n",
       "\n",
       "    .dataframe tbody tr th {\n",
       "        vertical-align: top;\n",
       "    }\n",
       "\n",
       "    .dataframe thead th {\n",
       "        text-align: right;\n",
       "    }\n",
       "</style>\n",
       "<table border=\"1\" class=\"dataframe\">\n",
       "  <thead>\n",
       "    <tr style=\"text-align: right;\">\n",
       "      <th></th>\n",
       "      <th>kurs</th>\n",
       "    </tr>\n",
       "    <tr>\n",
       "      <th>month</th>\n",
       "      <th></th>\n",
       "    </tr>\n",
       "  </thead>\n",
       "  <tbody>\n",
       "    <tr>\n",
       "      <th>2021-10</th>\n",
       "      <td>14145.59</td>\n",
       "    </tr>\n",
       "    <tr>\n",
       "      <th>2021-11</th>\n",
       "      <td>14270.15</td>\n",
       "    </tr>\n",
       "    <tr>\n",
       "      <th>2021-12</th>\n",
       "      <td>14315.45</td>\n",
       "    </tr>\n",
       "    <tr>\n",
       "      <th>2022-01</th>\n",
       "      <td>14337.25</td>\n",
       "    </tr>\n",
       "    <tr>\n",
       "      <th>2022-02</th>\n",
       "      <td>14362.52</td>\n",
       "    </tr>\n",
       "    <tr>\n",
       "      <th>2022-03</th>\n",
       "      <td>14337.79</td>\n",
       "    </tr>\n",
       "    <tr>\n",
       "      <th>2022-04</th>\n",
       "      <td>14401.61</td>\n",
       "    </tr>\n",
       "  </tbody>\n",
       "</table>\n",
       "</div>"
      ],
      "text/plain": [
       "             kurs\n",
       "month            \n",
       "2021-10  14145.59\n",
       "2021-11  14270.15\n",
       "2021-12  14315.45\n",
       "2022-01  14337.25\n",
       "2022-02  14362.52\n",
       "2022-03  14337.79\n",
       "2022-04  14401.61"
      ]
     },
     "execution_count": 14,
     "metadata": {},
     "output_type": "execute_result"
    }
   ],
   "source": [
    "# using groupby to get mean in every month\n",
    "df_mean = df.groupby('month').mean().round(2)\n",
    "df_mean"
   ]
  },
  {
   "cell_type": "markdown",
   "metadata": {},
   "source": [
    "after we get the average exchange rate from each month, then we will make a visualization using `.plot`"
   ]
  },
  {
   "cell_type": "code",
   "execution_count": 15,
   "metadata": {},
   "outputs": [
    {
     "data": {
      "text/plain": [
       "<AxesSubplot:xlabel='month'>"
      ]
     },
     "execution_count": 15,
     "metadata": {},
     "output_type": "execute_result"
    },
    {
     "data": {
      "image/png": "[encoded data removed]",
      "text/plain": [
       "<Figure size 432x288 with 1 Axes>"
      ]
     },
     "metadata": {
      "needs_background": "light"
     },
     "output_type": "display_data"
    }
   ],
   "source": [
    "df_mean.plot()"
   ]
  },
  {
   "cell_type": "markdown",
   "metadata": {},
   "source": [
    "## Conclusion\n",
    "\n",
    "The chart illustrates that the dollar to rupiah exchange rate has an upward trend from October 2021-April 2022. Although in March 2022 there was a decline in the exchange rate, the exchange rate rose again in April 2022. The conclusion is the dollar exchange rate in October 2021. - April 2022 has increased.\n",
    "\n",
    "The strengthening of the exchange rate of the dollar against the rupiah can have several negative impacts. The government must make efforts so that the value of the rupiah can strengthen again against the dollar exchange rate."
   ]
  }
 ],
 "metadata": {
  "interpreter": {
   "hash": "3ed7f1694f7b0dad43798c6d0b88c01295a4c57ee264475ae286b4d361eeec00"
  },
  "kernelspec": {
   "display_name": "Python 3",
   "language": "python",
   "name": "python3"
  },
  "language_info": {
   "codemirror_mode": {
    "name": "ipython",
    "version": 3
   },
   "file_extension": ".py",
   "mimetype": "text/x-python",
   "name": "python",
   "nbconvert_exporter": "python",
   "pygments_lexer": "ipython3",
   "version": "3.8.8"
  }
 },
 "nbformat": 4,
 "nbformat_minor": 2
}
